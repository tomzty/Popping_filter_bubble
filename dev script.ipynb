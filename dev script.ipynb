{
 "cells": [
  {
   "cell_type": "code",
   "execution_count": 1,
   "metadata": {},
   "outputs": [],
   "source": [
    "from urllib.request import urlopen\n",
    "from bs4 import BeautifulSoup"
   ]
  },
  {
   "cell_type": "code",
   "execution_count": 61,
   "metadata": {},
   "outputs": [],
   "source": [
    "def cnn(url,keyword):\n",
    "    page = urlopen(url)\n",
    "    soup = BeautifulSoup(page,'html.parser')\n",
    "    headline = soup.find('h1',{\"class\":\"pg-headline\"})\n",
    "    content = soup.find('div',{\"itemprop\":\"articleBody\"}).section.div\n",
    "    return keyword in str(content)"
   ]
  },
  {
   "cell_type": "code",
   "execution_count": 62,
   "metadata": {},
   "outputs": [
    {
     "data": {
      "text/plain": [
       "True"
      ]
     },
     "execution_count": 62,
     "metadata": {},
     "output_type": "execute_result"
    }
   ],
   "source": [
    "cnn(\"https://www.cnn.com/2020/04/25/world/georgia-us-germany-coronavirus-lockdown-ger-intl/index.html\",'Georgia')"
   ]
  },
  {
   "cell_type": "code",
   "execution_count": 71,
   "metadata": {},
   "outputs": [],
   "source": [
    "def fox(url,keyword):\n",
    "    page = urlopen(url)\n",
    "    soup = BeautifulSoup(page,'html.parser')\n",
    "    headline = soup.find('h1',{'class':'headline'})\n",
    "    content = soup.find('div',{'class':'article-body'})\n",
    "    articlebody = ''\n",
    "    for i in content.findAll('p'):\n",
    "        articlebody += str(i)\n",
    "    return keyword in articlebody"
   ]
  },
  {
   "cell_type": "code",
   "execution_count": 75,
   "metadata": {},
   "outputs": [
    {
     "data": {
      "text/plain": [
       "True"
      ]
     },
     "execution_count": 75,
     "metadata": {},
     "output_type": "execute_result"
    }
   ],
   "source": [
    "fox('https://www.foxnews.com/opinion/newt-gingrich-the-great-experiment-begins','reopen')"
   ]
  },
  {
   "cell_type": "code",
   "execution_count": 76,
   "metadata": {},
   "outputs": [],
   "source": [
    "def nytimes(url,keyword):\n",
    "    page = urlopen(url)\n",
    "    soup = BeautifulSoup(page,'html.parser')\n",
    "    content = soup.find('section',{'name':'articleBody'})\n",
    "    return keyword in str(content)"
   ]
  },
  {
   "cell_type": "code",
   "execution_count": 80,
   "metadata": {},
   "outputs": [
    {
     "data": {
      "text/plain": [
       "True"
      ]
     },
     "execution_count": 80,
     "metadata": {},
     "output_type": "execute_result"
    }
   ],
   "source": [
    "nytimes('https://www.nytimes.com/2020/04/25/business/economy/coronavirus-economy-reopening.html','widespread reopening')"
   ]
  },
  {
   "cell_type": "code",
   "execution_count": 88,
   "metadata": {},
   "outputs": [],
   "source": [
    "def bbc(url,keyword):\n",
    "    page = urlopen(url)\n",
    "    soup = BeautifulSoup(page,'html.parser')\n",
    "    content = soup.find('div',{'class':'story-body__inner'})\n",
    "    return keyword in str(content)"
   ]
  },
  {
   "cell_type": "code",
   "execution_count": 89,
   "metadata": {},
   "outputs": [
    {
     "data": {
      "text/plain": [
       "True"
      ]
     },
     "execution_count": 89,
     "metadata": {},
     "output_type": "execute_result"
    }
   ],
   "source": [
    "bbc('https://www.bbc.com/news/world-us-canada-52421730','efforts are key to')"
   ]
  },
  {
   "cell_type": "code",
   "execution_count": 94,
   "metadata": {},
   "outputs": [],
   "source": [
    "def nypost(url,keyword):\n",
    "    page = urlopen(url)\n",
    "    soup = BeautifulSoup(page,'html.parser')\n",
    "    content = soup.find('div',{'class':'entry-content'})\n",
    "    return keyword in str(content)"
   ]
  },
  {
   "cell_type": "code",
   "execution_count": 95,
   "metadata": {},
   "outputs": [
    {
     "data": {
      "text/plain": [
       "True"
      ]
     },
     "execution_count": 95,
     "metadata": {},
     "output_type": "execute_result"
    }
   ],
   "source": [
    "nypost('https://nypost.com/2020/04/24/struggling-americans-are-mixed-on-reopening-the-us-economy/','grim unemployment')"
   ]
  },
  {
   "cell_type": "code",
   "execution_count": 103,
   "metadata": {},
   "outputs": [],
   "source": [
    "def final(url,keyword):\n",
    "    website = url.split('.com')[0]\n",
    "    if 'cnn' in website:\n",
    "        return cnn(url,keyword)\n",
    "    if 'fox' in website:\n",
    "        return fox(url,keyword)\n",
    "    if 'nytimes' in website:\n",
    "        return nytimes(url,keyword)\n",
    "    if 'bbc' in website:\n",
    "        return bbc(url,keyword)\n",
    "    if 'nypost' in website:\n",
    "        return nypost(url,keyword)"
   ]
  },
  {
   "cell_type": "code",
   "execution_count": 105,
   "metadata": {},
   "outputs": [
    {
     "data": {
      "text/plain": [
       "False"
      ]
     },
     "execution_count": 105,
     "metadata": {},
     "output_type": "execute_result"
    }
   ],
   "source": [
    "final('https://www.nytimes.com/2020/04/25/business/economy/coronavirus-economy-reopening.html','commissions evaporate')"
   ]
  },
  {
   "cell_type": "code",
   "execution_count": null,
   "metadata": {},
   "outputs": [],
   "source": []
  }
 ],
 "metadata": {
  "kernelspec": {
   "display_name": "Python 3",
   "language": "python",
   "name": "python3"
  },
  "language_info": {
   "codemirror_mode": {
    "name": "ipython",
    "version": 3
   },
   "file_extension": ".py",
   "mimetype": "text/x-python",
   "name": "python",
   "nbconvert_exporter": "python",
   "pygments_lexer": "ipython3",
   "version": "3.6.8"
  }
 },
 "nbformat": 4,
 "nbformat_minor": 2
}
